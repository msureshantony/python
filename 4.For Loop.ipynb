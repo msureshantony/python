{
 "cells": [
  {
   "cell_type": "code",
   "execution_count": 3,
   "id": "4ab341b3",
   "metadata": {},
   "outputs": [],
   "source": [
    "lists=[45,59,60,14,18,23]"
   ]
  },
  {
   "cell_type": "code",
   "execution_count": 4,
   "id": "cf05ff15",
   "metadata": {},
   "outputs": [
    {
     "name": "stdout",
     "output_type": "stream",
     "text": [
      "You are a Citizen\n",
      "You are a Citizen\n",
      "You are a Senior Citizen\n",
      "You are a Child\n",
      "You are an Adult\n",
      "You are an Adult\n"
     ]
    }
   ],
   "source": [
    "for age in lists:\n",
    "    if(age<18):\n",
    "        print(\"You are a Child\")\n",
    "    elif(age<35):\n",
    "        print(\"You are an Adult\")\n",
    "    elif(age<=59):\n",
    "        print(\"You are a Citizen\")    \n",
    "    else:\n",
    "        print(\"You are a Senior Citizen\")"
   ]
  },
  {
   "cell_type": "code",
   "execution_count": 6,
   "id": "4f7a88c0",
   "metadata": {},
   "outputs": [
    {
     "name": "stdout",
     "output_type": "stream",
     "text": [
      "0\n",
      "1\n",
      "2\n",
      "3\n",
      "4\n"
     ]
    }
   ],
   "source": [
    "for num in range(0,5):\n",
    "    print(num)"
   ]
  },
  {
   "cell_type": "code",
   "execution_count": 7,
   "id": "c092791f",
   "metadata": {},
   "outputs": [
    {
     "name": "stdout",
     "output_type": "stream",
     "text": [
      "20\n",
      "23\n",
      "26\n",
      "29\n"
     ]
    }
   ],
   "source": [
    "for num in range(20,30,3):\n",
    "    print(num)"
   ]
  },
  {
   "cell_type": "code",
   "execution_count": null,
   "id": "adc037f6",
   "metadata": {},
   "outputs": [],
   "source": []
  }
 ],
 "metadata": {
  "kernelspec": {
   "display_name": "Python 3 (ipykernel)",
   "language": "python",
   "name": "python3"
  },
  "language_info": {
   "codemirror_mode": {
    "name": "ipython",
    "version": 3
   },
   "file_extension": ".py",
   "mimetype": "text/x-python",
   "name": "python",
   "nbconvert_exporter": "python",
   "pygments_lexer": "ipython3",
   "version": "3.11.5"
  }
 },
 "nbformat": 4,
 "nbformat_minor": 5
}
