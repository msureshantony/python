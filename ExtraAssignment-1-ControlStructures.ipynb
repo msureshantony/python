{
 "cells": [
  {
   "cell_type": "code",
   "execution_count": 1,
   "id": "940938ef",
   "metadata": {},
   "outputs": [
    {
     "name": "stdout",
     "output_type": "stream",
     "text": [
      "HOPE AI\n"
     ]
    }
   ],
   "source": [
    "#Print statement\n",
    "print(\"HOPE AI\")"
   ]
  },
  {
   "cell_type": "code",
   "execution_count": 3,
   "id": "e80fb5fc",
   "metadata": {},
   "outputs": [
    {
     "name": "stdout",
     "output_type": "stream",
     "text": [
      "Enter your institute Name? :HOPE AI\n"
     ]
    }
   ],
   "source": [
    "#Buy Input\n",
    "insName=input(\"Enter your institute Name? :\")"
   ]
  },
  {
   "cell_type": "code",
   "execution_count": 4,
   "id": "87a1adfd",
   "metadata": {},
   "outputs": [
    {
     "name": "stdout",
     "output_type": "stream",
     "text": [
      "Enter your name: Suresh\n",
      "Enter your age: 39\n",
      "Enter your school name: MAK\n",
      "Enter your degree: BTECH\n"
     ]
    }
   ],
   "source": [
    "#Buy Inputs\n",
    "myName=input(\"Enter your name: \")\n",
    "myAge=input(\"Enter your age: \")\n",
    "mySchool=input(\"Enter your school name: \")\n",
    "mydegree=input(\"Enter your degree: \")"
   ]
  },
  {
   "cell_type": "code",
   "execution_count": 7,
   "id": "e3efdf07",
   "metadata": {},
   "outputs": [
    {
     "name": "stdout",
     "output_type": "stream",
     "text": [
      "a=  43\n",
      "b=  34\n",
      "add=  77\n"
     ]
    }
   ],
   "source": [
    "#Addition\n",
    "a=43\n",
    "b=34\n",
    "add=a+b\n",
    "print(\"a= \",a)\n",
    "print(\"b= \",b)\n",
    "print(\"add= \",add)"
   ]
  },
  {
   "cell_type": "code",
   "execution_count": 8,
   "id": "ebabe8f3",
   "metadata": {},
   "outputs": [
    {
     "name": "stdout",
     "output_type": "stream",
     "text": [
      "a=  43\n",
      "b=  34\n",
      "Sub=  9\n"
     ]
    }
   ],
   "source": [
    "#Subtraction\n",
    "a=43\n",
    "b=34\n",
    "Sub=a-b\n",
    "print(\"a= \",a)\n",
    "print(\"b= \",b)\n",
    "print(\"Sub= \",Sub)"
   ]
  },
  {
   "cell_type": "code",
   "execution_count": 10,
   "id": "f23691ac",
   "metadata": {},
   "outputs": [
    {
     "name": "stdout",
     "output_type": "stream",
     "text": [
      "a=  63\n",
      "b=  97\n",
      "Mul=  6111\n"
     ]
    }
   ],
   "source": [
    "#Multiplication\n",
    "a=63\n",
    "b=97\n",
    "Mul=a*b\n",
    "print(\"a= \",a)\n",
    "print(\"b= \",b)\n",
    "print(\"Mul= \",Mul)"
   ]
  },
  {
   "cell_type": "code",
   "execution_count": 12,
   "id": "f1e2cd57",
   "metadata": {},
   "outputs": [
    {
     "name": "stdout",
     "output_type": "stream",
     "text": [
      "a=  76\n",
      "b=  31\n",
      "Float Div=  2.4516129032258065\n"
     ]
    }
   ],
   "source": [
    "#Division\n",
    "a=76\n",
    "b=31\n",
    "div=a/b\n",
    "print(\"a= \",a)\n",
    "print(\"b= \",b)\n",
    "print(\"Float Div= \",div)"
   ]
  },
  {
   "cell_type": "code",
   "execution_count": 14,
   "id": "97da3a7b",
   "metadata": {},
   "outputs": [
    {
     "name": "stdout",
     "output_type": "stream",
     "text": [
      "a=  76\n",
      "b=  31\n",
      "Floor Div=  2\n"
     ]
    }
   ],
   "source": [
    "#Floor Division\n",
    "a=76\n",
    "b=31\n",
    "div=a//b\n",
    "print(\"a= \",a)\n",
    "print(\"b= \",b)\n",
    "print(\"Floor Div= \",div)"
   ]
  },
  {
   "cell_type": "code",
   "execution_count": 15,
   "id": "b4171119",
   "metadata": {},
   "outputs": [
    {
     "name": "stdout",
     "output_type": "stream",
     "text": [
      "a=  76\n",
      "b=  31\n",
      "Modulo=  14\n"
     ]
    }
   ],
   "source": [
    "#Modulo\n",
    "a=76\n",
    "b=31\n",
    "mod=a%b\n",
    "print(\"a= \",a)\n",
    "print(\"b= \",b)\n",
    "print(\"Modulo= \",mod)"
   ]
  },
  {
   "cell_type": "code",
   "execution_count": 16,
   "id": "a22eef39",
   "metadata": {},
   "outputs": [
    {
     "name": "stdout",
     "output_type": "stream",
     "text": [
      "a=  4\n",
      "b=  4\n",
      "Power=  256\n"
     ]
    }
   ],
   "source": [
    "#Power\n",
    "a=4\n",
    "b=4\n",
    "pow=a**b\n",
    "print(\"a= \",a)\n",
    "print(\"b= \",b)\n",
    "print(\"Power= \",pow)"
   ]
  },
  {
   "cell_type": "code",
   "execution_count": null,
   "id": "e7c08b8d",
   "metadata": {},
   "outputs": [],
   "source": []
  }
 ],
 "metadata": {
  "kernelspec": {
   "display_name": "Python 3 (ipykernel)",
   "language": "python",
   "name": "python3"
  },
  "language_info": {
   "codemirror_mode": {
    "name": "ipython",
    "version": 3
   },
   "file_extension": ".py",
   "mimetype": "text/x-python",
   "name": "python",
   "nbconvert_exporter": "python",
   "pygments_lexer": "ipython3",
   "version": "3.11.5"
  }
 },
 "nbformat": 4,
 "nbformat_minor": 5
}
