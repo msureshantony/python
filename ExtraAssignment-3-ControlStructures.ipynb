{
 "cells": [
  {
   "cell_type": "code",
   "execution_count": 5,
   "id": "1951b89d",
   "metadata": {},
   "outputs": [
    {
     "name": "stdout",
     "output_type": "stream",
     "text": [
      "Enter the secret number:10\n",
      "Value  10  is Correct.\n"
     ]
    }
   ],
   "source": [
    "# print 'CORRECT' if i == 10\n",
    "num1 = int(input(\"Enter the secret number:\"))\n",
    "if (num1==10):\n",
    "    print(\"Value \",num1,\" is Correct.\")\n",
    "else:\n",
    "    print(\"Value \",num1,\" is Incorrect.\")"
   ]
  },
  {
   "cell_type": "code",
   "execution_count": 8,
   "id": "64c395c2",
   "metadata": {},
   "outputs": [
    {
     "name": "stdout",
     "output_type": "stream",
     "text": [
      "Enter the password:HOPE@123\n",
      "Your Password is Correct.\n"
     ]
    }
   ],
   "source": [
    "# Check the password, using if and else\n",
    "pwd = input(\"Enter the password:\")\n",
    "if (pwd=='HOPE@123'):\n",
    "    print(\"Your Password is Correct.\")\n",
    "else:\n",
    "    print(\"Your Password is Incorrect.\")"
   ]
  },
  {
   "cell_type": "code",
   "execution_count": 15,
   "id": "86be6e13",
   "metadata": {},
   "outputs": [
    {
     "name": "stdout",
     "output_type": "stream",
     "text": [
      "Enter your age:60\n",
      "You are a Senior Citizen\n"
     ]
    }
   ],
   "source": [
    "# Category the people by their age like children, adult, citizen, senior citizen...\n",
    "age = int(input(\"Enter your age:\"))\n",
    "if(age<18):\n",
    "    print(\"You are a Child\")\n",
    "elif(age<35):\n",
    "    print(\"You are an Adult\")\n",
    "elif(age<=59):\n",
    "    print(\"You are a Citizen\")    \n",
    "else:\n",
    "    print(\"You are a Senior Citizen\")"
   ]
  },
  {
   "cell_type": "code",
   "execution_count": 18,
   "id": "25b3f0c9",
   "metadata": {},
   "outputs": [
    {
     "name": "stdout",
     "output_type": "stream",
     "text": [
      "Enter the number: -8\n",
      "Number is a Negative Number\n"
     ]
    }
   ],
   "source": [
    "# Find whether given number is positive or negative\n",
    "numInt = int(input(\"Enter the number: \"))\n",
    "if(numInt < 0):\n",
    "    print(\"Number is a Negative Number\")\n",
    "else:\n",
    "    print(\"Number is a Positive Number\")"
   ]
  },
  {
   "cell_type": "code",
   "execution_count": 21,
   "id": "65d4977f",
   "metadata": {},
   "outputs": [
    {
     "name": "stdout",
     "output_type": "stream",
     "text": [
      "Enter the number: 22\n",
      "Number is not divisible by 5\n"
     ]
    }
   ],
   "source": [
    "# Check whether the given number is divisible by 5\n",
    "numDiv = int(input(\"Enter the number: \"))\n",
    "if(numDiv % 5 ==0):\n",
    "    print(\"Number is divisible by 5\")\n",
    "else:\n",
    "    print(\"Number is not divisible by 5\")"
   ]
  },
  {
   "cell_type": "code",
   "execution_count": null,
   "id": "1a791bb9",
   "metadata": {},
   "outputs": [],
   "source": []
  }
 ],
 "metadata": {
  "kernelspec": {
   "display_name": "Python 3 (ipykernel)",
   "language": "python",
   "name": "python3"
  },
  "language_info": {
   "codemirror_mode": {
    "name": "ipython",
    "version": 3
   },
   "file_extension": ".py",
   "mimetype": "text/x-python",
   "name": "python",
   "nbconvert_exporter": "python",
   "pygments_lexer": "ipython3",
   "version": "3.11.5"
  }
 },
 "nbformat": 4,
 "nbformat_minor": 5
}
