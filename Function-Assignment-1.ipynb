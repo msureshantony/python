{
 "cells": [
  {
   "cell_type": "code",
   "execution_count": 2,
   "id": "3dd49ef7",
   "metadata": {},
   "outputs": [],
   "source": [
    "#list out the items in the list\n",
    "def SubFields():\n",
    "    flds = [\"Machine Learning\",\"Neural Networks\",\"Vision\",\"Robotics\",\"Speech Processing\",\"Natural Language Processing\"]\n",
    "    for fld in flds:\n",
    "        print(fld)\n",
    "    return        "
   ]
  },
  {
   "cell_type": "code",
   "execution_count": 3,
   "id": "eebb7129",
   "metadata": {},
   "outputs": [
    {
     "name": "stdout",
     "output_type": "stream",
     "text": [
      "Sub-fields in AI are:\n",
      "Machine Learning\n",
      "Neural Networks\n",
      "Vision\n",
      "Robotics\n",
      "Speech Processing\n",
      "Natural Language Processing\n"
     ]
    }
   ],
   "source": [
    "print(\"Sub-fields in AI are:\")\n",
    "SubFields()"
   ]
  },
  {
   "cell_type": "code",
   "execution_count": 8,
   "id": "c21106c5",
   "metadata": {},
   "outputs": [],
   "source": [
    "# Create a function that checks whether the given number is Odd or Even\n",
    "def checkOddEven(num):\n",
    "    if (num%2==0):\n",
    "        retTxt=print(num,\"is an Even Number\")\n",
    "    else:\n",
    "        retTxt=print(num,\"is a Odd Number\")\n",
    "    return retTxt"
   ]
  },
  {
   "cell_type": "code",
   "execution_count": 10,
   "id": "e2f35bc2",
   "metadata": {},
   "outputs": [
    {
     "name": "stdout",
     "output_type": "stream",
     "text": [
      "Enter a number:45\n",
      "45 is a Odd Number\n"
     ]
    }
   ],
   "source": [
    "iptNumber=int(input(\"Enter a number:\"))\n",
    "checkOddEven(iptNumber)"
   ]
  },
  {
   "cell_type": "code",
   "execution_count": 11,
   "id": "908a432b",
   "metadata": {},
   "outputs": [],
   "source": [
    "# Create a function that tells elegibility of marriage for male and female \n",
    "# according to their age limit like 21 for male and 18 for female\n",
    "def checkMarriageEligibility(sex,age):\n",
    "    if (sex=='Male'):\n",
    "        if (age > 20):\n",
    "            retTxt='Eligible'\n",
    "        else:\n",
    "            retTxt='InEligible'\n",
    "    else:\n",
    "        if (age > 17):\n",
    "            retTxt='Eligible'\n",
    "        else:\n",
    "            retTxt='InEligible'\n",
    "    return retTxt"
   ]
  },
  {
   "cell_type": "code",
   "execution_count": 15,
   "id": "14cc5b7f",
   "metadata": {},
   "outputs": [
    {
     "data": {
      "text/plain": [
       "'InEligible'"
      ]
     },
     "execution_count": 15,
     "metadata": {},
     "output_type": "execute_result"
    }
   ],
   "source": [
    "checkMarriageEligibility('Female',16)"
   ]
  },
  {
   "cell_type": "code",
   "execution_count": 18,
   "id": "fa8f3bc5",
   "metadata": {},
   "outputs": [],
   "source": [
    "# calculate the percentage of your 10th mark\n",
    "def getPercentage(sub1,sub2,sub3,sub4,sub5):\n",
    "    total=sub1+sub2+sub3+sub4+sub5\n",
    "    print(\"Total : \",total)\n",
    "    percent=total/5\n",
    "    return percent"
   ]
  },
  {
   "cell_type": "code",
   "execution_count": 20,
   "id": "b12c69fd",
   "metadata": {},
   "outputs": [
    {
     "name": "stdout",
     "output_type": "stream",
     "text": [
      "Subject1 = 98\n",
      "Subject2 = 87\n",
      "Subject3 = 95\n",
      "Subject4 = 95\n",
      "Subject5 = 93\n",
      "Total :  468\n",
      "Percentage : 93.6\n"
     ]
    }
   ],
   "source": [
    "sub1=int(input(\"Subject1 = \"))\n",
    "sub2=int(input(\"Subject2 = \"))\n",
    "sub3=int(input(\"Subject3 = \"))\n",
    "sub4=int(input(\"Subject4 = \"))\n",
    "sub5=int(input(\"Subject5 = \"))\n",
    "percentage=getPercentage(sub1,sub2,sub3,sub4,sub5)\n",
    "print(\"Percentage :\",percentage)"
   ]
  },
  {
   "cell_type": "code",
   "execution_count": 22,
   "id": "2d6f0802",
   "metadata": {},
   "outputs": [
    {
     "name": "stdout",
     "output_type": "stream",
     "text": [
      "Height = 32\n",
      "Breadth = 34\n",
      "Height2 = 6\n",
      "Area of Triangle:  544.0\n",
      "Perimeter of Triangle:  72\n"
     ]
    }
   ],
   "source": [
    "#print area and perimeter of triangle using functions\n",
    "def areaOfTriangle(height,breadth):\n",
    "    return (height*breadth)/2\n",
    "\n",
    "def perimeterOfTriangle(height,breadth,height2):\n",
    "    return height+breadth+height2\n",
    "\n",
    "height=int(input(\"Height = \"))\n",
    "breadth=int(input(\"Breadth = \"))\n",
    "height2=int(input(\"Height2 = \"))\n",
    "area=areaOfTriangle(height,breadth)\n",
    "perimeter=perimeterOfTriangle(height,breadth,height2)\n",
    "\n",
    "print(\"Area of Triangle: \",area)\n",
    "print(\"Perimeter of Triangle: \",perimeter)"
   ]
  },
  {
   "cell_type": "code",
   "execution_count": null,
   "id": "de3b6bc5",
   "metadata": {},
   "outputs": [],
   "source": []
  }
 ],
 "metadata": {
  "kernelspec": {
   "display_name": "Python 3 (ipykernel)",
   "language": "python",
   "name": "python3"
  },
  "language_info": {
   "codemirror_mode": {
    "name": "ipython",
    "version": 3
   },
   "file_extension": ".py",
   "mimetype": "text/x-python",
   "name": "python",
   "nbconvert_exporter": "python",
   "pygments_lexer": "ipython3",
   "version": "3.11.5"
  }
 },
 "nbformat": 4,
 "nbformat_minor": 5
}
